{
 "cells": [
  {
   "cell_type": "code",
   "execution_count": null,
   "id": "a0231fd0",
   "metadata": {},
   "outputs": [],
   "source": [
    "import numpy as np\n",
    "import os\n",
    "import PIL\n",
    "import PIL.Image\n",
    "import tensorflow as tf\n",
    "import pandas as pd\n",
    "import pathlib"
   ]
  },
  {
   "cell_type": "code",
   "execution_count": 4,
   "id": "011d8854",
   "metadata": {},
   "outputs": [
    {
     "name": "stdout",
     "output_type": "stream",
     "text": [
      "28709\n"
     ]
    }
   ],
   "source": [
    "data_dir = pathlib.Path('data/train/').with_suffix('')\n",
    "image_count = len(list(data_dir.glob('*/*.jpg')))\n",
    "print(image_count)"
   ]
  },
  {
   "cell_type": "code",
   "execution_count": null,
   "id": "8a19ce91",
   "metadata": {},
   "outputs": [],
   "source": [
    "angry = list(data_dir.glob('angry/*'))\n",
    "disgust = list(data_dir.glob('disgust/*'))\n",
    "fear = list(data_dir.glob('fear/*'))\n",
    "happy = list(data_dir.glob('happy/*'))\n",
    "neutral = list(data_dir.glob('neutral/*'))\n",
    "sad = list(data_dir.glob('sad/*'))\n",
    "surprise = list(data_dir.glob('surprise/*'))\n",
    "\n",
    "PIL.Image.open(str(angry[0]))\n",
    "# PIL.Image.open(str(fear[0]))"
   ]
  },
  {
   "cell_type": "code",
   "execution_count": null,
   "id": "0955c32a",
   "metadata": {},
   "outputs": [],
   "source": [
    "batch_size = 32\n",
    "img_height = 224\n",
    "img_width = 224"
   ]
  },
  {
   "cell_type": "code",
   "execution_count": null,
   "id": "fa91cd48",
   "metadata": {},
   "outputs": [],
   "source": [
    "train_ds = tf.keras.utils.image_dataset_from_directory(\n",
    "  data_dir,\n",
    "  validation_split=0.2,\n",
    "  subset=\"training\",\n",
    "  seed=123,\n",
    "  image_size=(img_height, img_width),\n",
    "  batch_size=batch_size,\n",
    "  color_mode='grayscale')\n",
    "\n",
    "val_ds = tf.keras.utils.image_dataset_from_directory(\n",
    "  data_dir,\n",
    "  validation_split=0.2,\n",
    "  subset=\"validation\",\n",
    "  seed=123,\n",
    "  image_size=(img_height, img_width),\n",
    "  batch_size=batch_size,\n",
    "  color_mode='grayscale')"
   ]
  },
  {
   "cell_type": "code",
   "execution_count": null,
   "id": "b5320823",
   "metadata": {},
   "outputs": [],
   "source": [
    "# Normalization is made in the layers - This code is therefore useless\n",
    "# normalization_layer = tf.keras.layers.Rescaling(1./255)\n",
    "# normalized_ds = train_ds.map(lambda x, y: (normalization_layer(x), y))\n",
    "# image_batch, labels_batch = next(iter(normalized_ds))\n",
    "# first_image = image_batch[0]\n",
    "# # Notice the pixel values are now in `[0,1]`.\n",
    "# print(np.min(first_image), np.max(first_image))"
   ]
  },
  {
   "cell_type": "code",
   "execution_count": null,
   "id": "6c1f4c07",
   "metadata": {},
   "outputs": [],
   "source": [
    "# Important - Set weights as the dataset is imbalanced\n",
    "from sklearn.utils import class_weight\n",
    "\n",
    "train_labels = []\n",
    "for images, labels in train_ds:\n",
    "    train_labels.extend(labels.numpy())\n",
    "\n",
    "class_weights = class_weight.compute_class_weight(\n",
    "    class_weight = \"balanced\",\n",
    "    classes = np.unique(train_labels),\n",
    "    y = train_labels\n",
    ")\n",
    "\n",
    "class_weight_dict = dict(enumerate(class_weights))\n",
    "\n",
    "print(\"Class Weight Dictionary:\", class_weight_dict)"
   ]
  },
  {
   "cell_type": "code",
   "execution_count": null,
   "id": "0a3263f7",
   "metadata": {},
   "outputs": [],
   "source": [
    "# # Ancient code for training from scratch - complete sequential without any transfer learning\n",
    "# num_classes = len(train_ds.class_names)\n",
    "\n",
    "# model = tf.keras.Sequential([\n",
    "#   tf.keras.layers.Rescaling(1./255),\n",
    "#   tf.keras.layers.Conv2D(32, 3, activation='relu'),\n",
    "#   tf.keras.layers.MaxPooling2D(),\n",
    "#   tf.keras.layers.Conv2D(32, 3, activation='relu'),\n",
    "#   tf.keras.layers.MaxPooling2D(),\n",
    "#   tf.keras.layers.Conv2D(32, 3, activation='relu'),\n",
    "#   tf.keras.layers.MaxPooling2D(),\n",
    "#   tf.keras.layers.Flatten(),\n",
    "#   tf.keras.layers.Dense(128, activation='relu'),\n",
    "#   tf.keras.layers.Dense(num_classes)\n",
    "# ])\n",
    "\n",
    "# model.compile(\n",
    "#   optimizer='adam',\n",
    "#   loss=tf.keras.losses.SparseCategoricalCrossentropy(from_logits=True),\n",
    "#   metrics=['accuracy'])"
   ]
  },
  {
   "cell_type": "code",
   "execution_count": null,
   "id": "ecbaaefb",
   "metadata": {},
   "outputs": [],
   "source": [
    "# ImageNet needs input in three channels, because it was trained on RGB images. This is why we convert the grayscale images to RGB by repeating the single channel three times.\n",
    "# Even if the images are already grayscaled in the dataset, this conversion ensures that there is three channels with the same values to prevent any noise.\n",
    "def convert_grayscale_to_rgb(image, label):\n",
    "    image = tf.image.grayscale_to_rgb(image)\n",
    "    return image, label\n",
    "\n",
    "# Convert the whole dataset\n",
    "train_ds = train_ds.map(convert_grayscale_to_rgb)\n",
    "val_ds = val_ds.map(convert_grayscale_to_rgb)\n"
   ]
  },
  {
   "cell_type": "code",
   "execution_count": null,
   "id": "fbfc6901",
   "metadata": {},
   "outputs": [],
   "source": [
    "# Optimization for performance\n",
    "AUTOTUNE = tf.data.AUTOTUNE\n",
    "\n",
    "def configure_for_performance(ds):\n",
    "  ds = ds.cache()\n",
    "  ds = ds.shuffle(buffer_size=1000)\n",
    "  ds = ds.batch(batch_size)\n",
    "  ds = ds.prefetch(buffer_size=AUTOTUNE)\n",
    "  return ds\n",
    "\n",
    "train_ds = configure_for_performance(train_ds)\n",
    "val_ds = configure_for_performance(val_ds)"
   ]
  },
  {
   "cell_type": "code",
   "execution_count": null,
   "id": "95d7d542",
   "metadata": {},
   "outputs": [],
   "source": [
    "num_classes = len(train_ds.class_names)\n",
    "\n",
    "# Data augmentation\n",
    "data_augmentation = tf.keras.Sequential([\n",
    "  tf.keras.layers.RandomFlip(\"horizontal_and_vertical\"),\n",
    "  tf.keras.layers.RandomRotation(0.1),\n",
    "  tf.keras.layers.RandomZoom(0.1),\n",
    "], name=\"data_augmentation\")\n",
    "\n",
    "base_model = tf.keras.applications.MobileNetV2(\n",
    "    input_shape=(img_height, img_width, 3),\n",
    "    include_top=False,\n",
    "    weights='imagenet'\n",
    ")"
   ]
  },
  {
   "cell_type": "code",
   "execution_count": null,
   "id": "84423bdd",
   "metadata": {},
   "outputs": [],
   "source": [
    "# Setting up MobileNetV2 as base model\n",
    "base_model = tf.keras.applications.MobileNetV2(\n",
    "    input_shape = (img_width, img_height, 3), # 3 for RGB channels\n",
    "    include_top = False,\n",
    "    weights = \"imagenet\"\n",
    ")\n",
    "\n",
    "base_model.trainable = False"
   ]
  },
  {
   "cell_type": "code",
   "execution_count": null,
   "id": "af8ea00c",
   "metadata": {},
   "outputs": [],
   "source": [
    "# Creating the model\n",
    "model = tf.keras.Sequential([\n",
    "    tf.keras.layers.InputLayer(input_shape=(img_height, img_width, 3)), # Simple definition of input shape\n",
    "    data_augmentation,\n",
    "    tf.keras.layers.Rescaling(1./127.5, offset=-1), # MobileNetV2 needs inputs in the range [-1, 1]\n",
    "    base_model,\n",
    "    tf.keras.layers.GlobalAveragePooling2D(),\n",
    "    tf.keras.layers.Dropout(0.2),\n",
    "    tf.keras.layers.Dense(num_classes, )\n",
    "])\n",
    "\n",
    "base_learning_rate = 0.0001\n",
    "model.compile(optimizer=tf.keras.optimizers.Adam(learning_rate=base_learning_rate),\n",
    "              loss=tf.keras.losses.SparseCategoricalCrossentropy(from_logits=True),\n",
    "              metrics=['accuracy'])\n",
    "\n",
    "model.summary()"
   ]
  },
  {
   "cell_type": "code",
   "execution_count": null,
   "id": "9943d5ae",
   "metadata": {},
   "outputs": [],
   "source": [
    "# Model training\n",
    "# Implement early stopping\n",
    "early_stopping_callback = tf.keras.callbacks.EarlyStopping(\n",
    "    monitor='val_loss',\n",
    "    patience=5,\n",
    "    verbose=1,\n",
    "    restore_best_weights=True\n",
    ")\n",
    "\n",
    "# Save model periodically\n",
    "model_checkpoint_callback = tf.keras.callbacks.ModelCheckpoint(\n",
    "    filepath='best_model.keras',\n",
    "    save_weights_only=False,\n",
    "    monitor='val_loss',\n",
    "    mode='min',\n",
    "    save_best_only=True,\n",
    ")\n",
    "\n",
    "# Training\n",
    "history = model.fit(\n",
    "  train_ds,\n",
    "  validation_data=val_ds,\n",
    "  epochs=50,\n",
    "  class_weight=class_weight_dict,\n",
    "  callbacks=[early_stopping_callback, model_checkpoint_callback]\n",
    ")"
   ]
  },
  {
   "cell_type": "code",
   "execution_count": null,
   "id": "0c8dfe54",
   "metadata": {},
   "outputs": [],
   "source": [
    "sample_img_path = fear[20]\n",
    "PIL.Image.open(str(sample_img_path))"
   ]
  },
  {
   "cell_type": "code",
   "execution_count": 38,
   "id": "1a9ce9ed",
   "metadata": {},
   "outputs": [
    {
     "name": "stdout",
     "output_type": "stream",
     "text": [
      "\u001b[1m1/1\u001b[0m \u001b[32m━━━━━━━━━━━━━━━━━━━━\u001b[0m\u001b[37m\u001b[0m \u001b[1m0s\u001b[0m 43ms/step\n",
      "This image most likely belongs to fear with a 81.92 percent confidence.\n"
     ]
    }
   ],
   "source": [
    "\n",
    "img = tf.keras.utils.load_img(str(sample_img_path), target_size=(img_width, img_height))\n",
    "# img_array = np.array(img)\n",
    "img_array = tf.keras.utils.img_to_array(img)\n",
    "img_array = np.expand_dims(img_array, 0)  # add batch dimension\n",
    "\n",
    "predictions = model.predict(img_array)\n",
    "score = tf.nn.softmax(predictions[0])\n",
    "\n",
    "predicted_index = np.argmax(score)\n",
    "predicted_class_name = train_ds.class_names[predicted_index]\n",
    "\n",
    "print(\n",
    "    \"This image most likely belongs to {} with a {:.2f} percent confidence.\"\n",
    "    .format(predicted_class_name, 100 * np.max(score))\n",
    ")"
   ]
  },
  {
   "cell_type": "code",
   "execution_count": null,
   "id": "90d0819f",
   "metadata": {},
   "outputs": [],
   "source": []
  }
 ],
 "metadata": {
  "kernelspec": {
   "display_name": "ml",
   "language": "python",
   "name": "python3"
  },
  "language_info": {
   "codemirror_mode": {
    "name": "ipython",
    "version": 3
   },
   "file_extension": ".py",
   "mimetype": "text/x-python",
   "name": "python",
   "nbconvert_exporter": "python",
   "pygments_lexer": "ipython3",
   "version": "3.13.7"
  }
 },
 "nbformat": 4,
 "nbformat_minor": 5
}
