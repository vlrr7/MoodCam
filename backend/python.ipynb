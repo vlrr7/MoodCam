{
 "cells": [
  {
   "cell_type": "code",
   "execution_count": 3,
   "id": "a0231fd0",
   "metadata": {},
   "outputs": [
    {
     "name": "stdout",
     "output_type": "stream",
     "text": [
      "Extracted ../train.zip to 'data/' directory.\n",
      "Extracted ../test.zip to 'data/' directory.\n"
     ]
    }
   ],
   "source": [
    "import zipfile\n",
    "\n",
    "def extract_zip(zip_path):\n",
    "    \"\"\"Extracts a zip file to the specified directory.\"\"\"\n",
    "    with zipfile.ZipFile(zip_path, 'r') as zip_ref:\n",
    "        zip_ref.extractall('data')\n",
    "    print(f\"Extracted {zip_path} to 'data/' directory.\")\n",
    "\n",
    "if __name__ == \"__main__\":\n",
    "    extract_zip('../train.zip')\n",
    "    extract_zip('../test.zip')\n",
    "\n"
   ]
  }
 ],
 "metadata": {
  "kernelspec": {
   "display_name": "base",
   "language": "python",
   "name": "python3"
  },
  "language_info": {
   "codemirror_mode": {
    "name": "ipython",
    "version": 3
   },
   "file_extension": ".py",
   "mimetype": "text/x-python",
   "name": "python",
   "nbconvert_exporter": "python",
   "pygments_lexer": "ipython3",
   "version": "3.13.5"
  }
 },
 "nbformat": 4,
 "nbformat_minor": 5
}
